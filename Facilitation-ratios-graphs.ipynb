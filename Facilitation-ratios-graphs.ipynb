{
 "cells": [
  {
   "cell_type": "code",
   "execution_count": 5,
   "metadata": {},
   "outputs": [],
   "source": [
    "%matplotlib inline\n",
    "\n",
    "import scipy.io\n",
    "import matplotlib.pyplot as plt\n",
    "import scipy\n",
    "import numpy as np\n",
    "import os\n",
    "import itertools"
   ]
  },
  {
   "cell_type": "code",
   "execution_count": 42,
   "metadata": {},
   "outputs": [],
   "source": [
    "def flatMap(f, items):\n",
    "        return list(itertools.chain.from_iterable(itertools.imap(f, items)))"
   ]
  },
  {
   "cell_type": "code",
   "execution_count": 98,
   "metadata": {},
   "outputs": [],
   "source": [
    "def flatten(l):\n",
    "    return flatMap(lambda x:x, l)"
   ]
  },
  {
   "cell_type": "code",
   "execution_count": 7,
   "metadata": {},
   "outputs": [],
   "source": [
    "import numpy\n",
    "\n",
    "def smooth(x,window_len=11,window='hanning'):\n",
    "    \"\"\"smooth the data using a window with requested size.\n",
    "    \n",
    "    This method is based on the convolution of a scaled window with the signal.\n",
    "    The signal is prepared by introducing reflected copies of the signal \n",
    "    (with the window size) in both ends so that transient parts are minimized\n",
    "    in the begining and end part of the output signal.\n",
    "    \n",
    "    input:\n",
    "        x: the input signal \n",
    "        window_len: the dimension of the smoothing window; should be an odd integer\n",
    "        window: the type of window from 'flat', 'hanning', 'hamming', 'bartlett', 'blackman'\n",
    "            flat window will produce a moving average smoothing.\n",
    "\n",
    "    output:\n",
    "        the smoothed signal\n",
    "        \n",
    "    example:\n",
    "\n",
    "    t=linspace(-2,2,0.1)\n",
    "    x=sin(t)+randn(len(t))*0.1\n",
    "    y=smooth(x)\n",
    "    \n",
    "    see also: \n",
    "    \n",
    "    numpy.hanning, numpy.hamming, numpy.bartlett, numpy.blackman, numpy.convolve\n",
    "    scipy.signal.lfilter\n",
    " \n",
    "    TODO: the window parameter could be the window itself if an array instead of a string\n",
    "    NOTE: length(output) != length(input), to correct this: return y[(window_len/2-1):-(window_len/2)] instead of just y.\n",
    "    \"\"\"\n",
    "\n",
    "    if x.ndim != 1:\n",
    "        raise ValueError, \"smooth only accepts 1 dimension arrays.\"\n",
    "\n",
    "    if x.size < window_len:\n",
    "        raise ValueError, \"Input vector needs to be bigger than window size.\"\n",
    "\n",
    "\n",
    "    if window_len<3:\n",
    "        return x\n",
    "\n",
    "\n",
    "    if not window in ['flat', 'hanning', 'hamming', 'bartlett', 'blackman']:\n",
    "        raise ValueError, \"Window is on of 'flat', 'hanning', 'hamming', 'bartlett', 'blackman'\"\n",
    "\n",
    "\n",
    "    s=numpy.r_[x[window_len-1:0:-1],x,x[-2:-window_len-1:-1]]\n",
    "    #print(len(s))\n",
    "    if window == 'flat': #moving average\n",
    "        w=numpy.ones(window_len,'d')\n",
    "    else:\n",
    "        w=eval('numpy.'+window+'(window_len)')\n",
    "\n",
    "    y=numpy.convolve(w/w.sum(),s,mode='valid')\n",
    "    return y[(window_len/2-1):-(window_len/2)]\n"
   ]
  },
  {
   "cell_type": "code",
   "execution_count": 60,
   "metadata": {},
   "outputs": [],
   "source": [
    "from scipy.signal import argrelmax, argrelmin, find_peaks_cwt\n",
    "\n",
    "def findLocalExtremeIndices(sig, minGap = None, varPercentage = None, minValue = None, maxValue = None):\n",
    "    peaks = find_peaks_cwt(sig, np.arange(1,len(sig)*(1.0/100)))\n",
    "    maximums = argrelmax(sig)[0]\n",
    "    maximums = map(lambda peak: min(maximums, key=lambda x:abs(x-peak)), peaks)\n",
    "    minimums = argrelmin(sig)[0]\n",
    "    minimums = map(lambda peak: min(minimums, key=lambda x:abs(x-peak)), peaks)\n",
    "    \n",
    "    minimums = list(set(minimums))\n",
    "    maximums = list(set(maximums))\n",
    "    absMin = min([sig[i] for i in minimums])\n",
    "    absMax = min([sig[i] for i in maximums])\n",
    "    \n",
    "    if varPercentage:\n",
    "        minimums = filter(lambda i: absMin / sig[i] < varPercentage, minimums)\n",
    "        maximums = filter(lambda i: absMax / sig[i] < varPercentage, maximums)\n",
    "    if minValue:\n",
    "        maximums = filter(lambda i: sig[i] > minValue, maximums)\n",
    "    if maxValue:\n",
    "        minimums = filter(lambda i: sig[i] < maxValue, minimums)\n",
    "    \n",
    "    \n",
    "    minimums.sort()\n",
    "    maximums.sort()\n",
    "    \n",
    "    if minGap:\n",
    "        for l in [minimums, maximums]:\n",
    "            temp = list(set(l)) # to copy the list and not save a ref\n",
    "            for i in range(1, len(l)):\n",
    "                if (l[i] - l[i-1]) < minGap:\n",
    "                    if(sig[l[i]] > sig[l[i-1]]):\n",
    "                        temp.remove(l[i-1])\n",
    "                    else:\n",
    "                        temp.remove(l[i])\n",
    "            l = temp            \n",
    "    \n",
    "    return minimums, maximums"
   ]
  },
  {
   "cell_type": "code",
   "execution_count": 9,
   "metadata": {},
   "outputs": [],
   "source": [
    "def get_cell_type(cell):\n",
    "    num = cell['CellNum'][0][0][0][0]\n",
    "    if num in [19,20,21,22,23,24,36,37,38]:\n",
    "        return 'SpVi'\n",
    "    else:\n",
    "        return 'PrV'"
   ]
  },
  {
   "cell_type": "code",
   "execution_count": 10,
   "metadata": {},
   "outputs": [],
   "source": [
    "def compute_xvalue_averages_for_one_cell(cell):\n",
    "    ''' vMat\n",
    "    A matrix that represesnts the potential responses of the cell.\n",
    "    80 trials, each 40,000 samples long\n",
    "    vMat[i][j] := potential in sample i at trial j (mV)\n",
    "\n",
    "    40,000 samples \\ 20KHz sampling rate -> trials are 2 seconds long.\n",
    "\n",
    "    thus each sample is 2 \\ 40000 => 1  \\ 20000 => 0.05 ms long\n",
    "    '''\n",
    "    vMat = cell['vMat'][0][0].transpose()\n",
    "    \n",
    "    ''' stimMat\n",
    "    A matrix that the galvo feedback (the stimilus to the electical device \n",
    "    that mechanically stimulated the whiskers.)\n",
    "    80 trials, each 8,000 samples long\n",
    "    stimMat[i][j] := ? amount of stimulus\n",
    "\n",
    "    8,000 samples \\ 4KHz sampling rate -> trials are 2 seconds long.\n",
    "    thus each sample is 2 \\ 8000 = 1 \\ 4000 = 0.25ms long\n",
    "    \n",
    "     Note that vMat is 5x in the X axis.\n",
    "\n",
    "    '''\n",
    "    stimMat = cell['stimMat'][0][0].transpose()\n",
    "    xValuesVec = cell['xValue'][0][0].tolist()\n",
    "    \n",
    "    '''\n",
    "    xValue is a unique identifier for a stimilus pattern.\n",
    "    There are 20 (as you can see below) xValues.\n",
    "    Each trial was done in one of 20 stimulus patterns, and we can check which by using the xValueVec.\n",
    "    '''\n",
    "    xValues = np.unique(xValuesVec)\n",
    "    \n",
    "    xValueToTrials = dict(map(lambda xValue: (xValue, [i for i in range(0,len(xValuesVec)) if xValuesVec[i] == xValue]), xValues))\n",
    "    xValueToAverageVoltagesVector = dict(map(lambda xValue: (xValue, np.mean(vMat[xValueToTrials[xValue]], axis = 0)), xValueToTrials))\n",
    "    xValueToAverageStimulusVector = dict(map(lambda xValue: (xValue, np.mean(stimMat[xValueToTrials[xValue]], axis = 0)), xValueToTrials))\n",
    "\n",
    "    return (xValueToAverageStimulusVector,xValueToAverageVoltagesVector)"
   ]
  },
  {
   "cell_type": "code",
   "execution_count": null,
   "metadata": {},
   "outputs": [],
   "source": []
  },
  {
   "cell_type": "code",
   "execution_count": null,
   "metadata": {},
   "outputs": [],
   "source": []
  },
  {
   "cell_type": "code",
   "execution_count": 11,
   "metadata": {},
   "outputs": [],
   "source": [
    "'''\n",
    "    Overall average computation\n",
    "'''\n",
    "filenames = [os.path.join('data', fn) for fn in os.walk('data').next()[2] if fn.endswith('.mat')]\n",
    "mats = [scipy.io.loadmat(fn) for fn in filenames]\n",
    "cells = [mat['Cell'] for mat in mats]\n",
    "xValueAverageVectors = [compute_xvalue_averages_for_one_cell(cell) for cell in cells]"
   ]
  },
  {
   "cell_type": "code",
   "execution_count": 12,
   "metadata": {},
   "outputs": [],
   "source": [
    "# '''\n",
    "#     EXAMPLES\n",
    "#     the following 4 lines are an example for one xvalue of one cell\n",
    "# '''\n",
    "# exampleXValue = 1\n",
    "# (xValueToAverageStimulusVector, xValueToAverageVoltagesVector) =  xValueAverageVectors[0]\n",
    "# stimsample = xValueToAverageStimulusVector[exampleXValue]\n",
    "# plt.plot(stimsample)\n",
    "# plt.show()"
   ]
  },
  {
   "cell_type": "code",
   "execution_count": 13,
   "metadata": {},
   "outputs": [],
   "source": [
    "# stimsamplesmooth = smooth(stimsample, window_len = 100,window='hanning')\n",
    "# plt.plot(stimsamplesmooth)\n",
    "# plt.show()"
   ]
  },
  {
   "cell_type": "code",
   "execution_count": 14,
   "metadata": {},
   "outputs": [],
   "source": [
    "# vsample = xValueToAverageVoltagesVector[exampleXValue]\n",
    "# plt.plot(vsample)\n",
    "# plt.show()"
   ]
  },
  {
   "cell_type": "code",
   "execution_count": 15,
   "metadata": {},
   "outputs": [],
   "source": [
    "# vsamplesmooth = smooth(vsample, window_len = 500,window='hanning')\n",
    "# plt.plot(vsamplesmooth)\n",
    "# plt.show()"
   ]
  },
  {
   "cell_type": "code",
   "execution_count": null,
   "metadata": {},
   "outputs": [],
   "source": []
  },
  {
   "cell_type": "code",
   "execution_count": 16,
   "metadata": {},
   "outputs": [],
   "source": [
    "spviAverages = [avgs for cell, avgs in itertools.izip(cells, xValueAverageVectors) if get_cell_type(cell) == 'SpVi']\n",
    "prvAverages = [avgs for cell, avgs in itertools.izip(cells, xValueAverageVectors) if get_cell_type(cell) == 'PrV']"
   ]
  },
  {
   "cell_type": "code",
   "execution_count": 17,
   "metadata": {},
   "outputs": [],
   "source": [
    "spviXValueToStimulusAverages = map(lambda xvalue: [stimAvgVec[xvalue] for stimAvgVec, voltAvgVec in spviAverages], range(1,21))\n",
    "spviXValueToVoltageAverages = map(lambda xvalue: [voltAvgVec[xvalue] for stimAvgVec, voltAvgVec in spviAverages], range(1,21))\n",
    "\n",
    "prvXValueToStimulusAverages = map(lambda xvalue: [stimAvgVec[xvalue] for stimAvgVec, voltAvgVec in prvAverages], range(1,21))\n",
    "prvXValueToVoltageAverages = map(lambda xvalue: [voltAvgVec[xvalue] for stimAvgVec, voltAvgVec in prvAverages], range(1,21))"
   ]
  },
  {
   "cell_type": "code",
   "execution_count": 18,
   "metadata": {},
   "outputs": [],
   "source": [
    "spviXValueToStimulusOverallAverageVectors = [smooth(np.mean(v, axis = 0), window_len = 100,window='hanning') for v in spviXValueToStimulusAverages]\n",
    "spviXValueToVoltageOverallAverageVectors = [smooth(np.mean(v, axis = 0), window_len = 100,window='hanning') for v in spviXValueToVoltageAverages]\n",
    "\n",
    "prvXValueToStimulusOverallAverageVectors = [smooth(np.mean(v, axis = 0), window_len = 100,window='hanning') for v in prvXValueToStimulusAverages]\n",
    "prvXValueToVoltageOverallAverageVectors = [smooth(np.mean(v, axis = 0), window_len = 100,window='hanning') for v in prvXValueToVoltageAverages]"
   ]
  },
  {
   "cell_type": "code",
   "execution_count": 19,
   "metadata": {},
   "outputs": [],
   "source": [
    "# for xvalue in range(0,20):\n",
    "#     plt.close(1)\n",
    "#     plt.rc('xtick', labelsize=2.8)\n",
    "#     plt.plot(spviXValueToStimulusOverallAverageVectors[xvalue])\n",
    "#     plt.xticks(np.arange(0, len(spviXValueToStimulusOverallAverageVectors[xvalue])+1, 200.0))\n",
    "#     plt.savefig(r\"C:\\Users\\scaly\\Documents\\data\\graphs\\spvi_stim_%d.pdf\" % xvalue)\n",
    "#     plt.close(1)\n",
    "   \n",
    "#     plt.rc('xtick', labelsize=2)\n",
    "#     plt.plot(spviXValueToVoltageOverallAverageVectors[xvalue])\n",
    "#     plt.xticks(np.arange(0, len(spviXValueToVoltageOverallAverageVectors[xvalue])+1, 1000.0))\n",
    "#     plt.savefig(r\"C:\\Users\\scaly\\Documents\\data\\graphs\\spvi_volt_%d.pdf\" % xvalue)\n",
    "#     plt.close(1)\n",
    "   \n",
    "#     plt.rc('xtick', labelsize=2.8)\n",
    "#     plt.plot(prvXValueToStimulusOverallAverageVectors[xvalue])\n",
    "#     plt.xticks(np.arange(0, len(prvXValueToStimulusOverallAverageVectors[xvalue])+1, 200.0))\n",
    "#     plt.savefig(r\"C:\\Users\\scaly\\Documents\\data\\graphs\\prv_stim_%d.pdf\" % xvalue)\n",
    "   \n",
    "#     plt.close(1)\n",
    "#     plt.rc('xtick', labelsize=2)\n",
    "#     plt.plot(prvXValueToVoltageOverallAverageVectors[xvalue])\n",
    "#     plt.xticks(np.arange(0, len(prvXValueToVoltageOverallAverageVectors[xvalue])+1, 1000.0))\n",
    "#     plt.savefig(r\"C:\\Users\\scaly\\Documents\\data\\graphs\\prv_volt_%d.pdf\" % xvalue)\n",
    "#     plt.close(1)"
   ]
  },
  {
   "cell_type": "code",
   "execution_count": 20,
   "metadata": {},
   "outputs": [],
   "source": [
    "# xvalue = 1\n",
    "# plt.close(1)\n",
    "# plt.rc('xtick', labelsize=1.3) \n",
    "# plt.plot(spviXValueToStimulusOverallAverageVectors[xvalue])\n",
    "# plt.xticks(np.arange(0, len(spviXValueToStimulusOverallAverageVectors[xvalue])+1, 100.0))\n",
    "# plt.savefig(r\"C:\\Users\\scaly\\Documents\\data\\graphs\\spvi_stim_%d.pdf\" % xvalue, format = \"pdf\")"
   ]
  },
  {
   "cell_type": "code",
   "execution_count": 68,
   "metadata": {},
   "outputs": [],
   "source": [
    "spviXValueToStimulusPeaks = [[(0.25*i,v[i]) for i in findLocalExtremeIndices(v, minGap = (25 / 0.25), maxValue = -0.35)[0]] for v in spviXValueToStimulusOverallAverageVectors]"
   ]
  },
  {
   "cell_type": "code",
   "execution_count": 79,
   "metadata": {},
   "outputs": [],
   "source": [
    "spviXValueToVoltagePeaks = [[(0.05*i,v[i]) for i in findLocalExtremeIndices(v, minValue = -69.0)[1]] for v in spviXValueToVoltageOverallAverageVectors]"
   ]
  },
  {
   "cell_type": "code",
   "execution_count": 77,
   "metadata": {},
   "outputs": [],
   "source": [
    "prvXValueToStimulusPeaks = [[(0.25*i,v[i]) for i in findLocalExtremeIndices(v, minGap = (25 / 0.25), maxValue = -0.35)[0]] for v in prvXValueToStimulusOverallAverageVectors]"
   ]
  },
  {
   "cell_type": "code",
   "execution_count": 78,
   "metadata": {},
   "outputs": [],
   "source": [
    "prvXValueToVoltagePeaks = [[(0.05*i,v[i]) for i in findLocalExtremeIndices(v, minValue = -61.0)[1]] for v in prvXValueToVoltageOverallAverageVectors]"
   ]
  },
  {
   "cell_type": "code",
   "execution_count": 81,
   "metadata": {},
   "outputs": [
    {
     "data": {
      "text/plain": [
       "[(40.75, -0.5551388899329252),\n",
       " (92.5, -0.6249382455006101),\n",
       " (174.0, -0.628512340472685),\n",
       " (253.0, -0.5225384610257596),\n",
       " (379.75, -0.5586334100889141),\n",
       " (473.25, -0.7393581322984274),\n",
       " (611.5, -0.4322355163032747),\n",
       " (709.75, -0.5089244621716491),\n",
       " (779.25, -0.7332698886961457),\n",
       " (895.0, -0.5706610274155689),\n",
       " (983.5, -0.5446123611157601),\n",
       " (1072.0, -0.36881286803469204),\n",
       " (1184.0, -0.4125106717058063),\n",
       " (1260.5, -0.44783612386924193),\n",
       " (1368.25, -0.45924058138016083),\n",
       " (1436.75, -0.6718973382531487),\n",
       " (1529.75, -0.6174459136097569),\n",
       " (1621.75, -0.4627384818528162),\n",
       " (1676.25, -0.6658669773790711),\n",
       " (1786.25, -0.6709153739061863),\n",
       " (1937.0, -0.39708748419846246)]"
      ]
     },
     "execution_count": 81,
     "metadata": {},
     "output_type": "execute_result"
    }
   ],
   "source": [
    "[(t, v) for (t,v) in prvXValueToStimulusPeaks[0]]"
   ]
  },
  {
   "cell_type": "code",
   "execution_count": 82,
   "metadata": {},
   "outputs": [
    {
     "data": {
      "text/plain": [
       "21"
      ]
     },
     "execution_count": 82,
     "metadata": {},
     "output_type": "execute_result"
    }
   ],
   "source": [
    "len(prvXValueToStimulusPeaks[0])"
   ]
  },
  {
   "cell_type": "code",
   "execution_count": 83,
   "metadata": {},
   "outputs": [
    {
     "data": {
      "text/plain": [
       "[(41.050000000000004, -58.03719643931015),\n",
       " (93.2, -58.42321960211492),\n",
       " (174.70000000000002, -57.99412865462342),\n",
       " (254.15, -58.420542116696),\n",
       " (380.5, -58.405198607886575),\n",
       " (473.45000000000005, -57.625247280738535),\n",
       " (613.45, -59.04868744372147),\n",
       " (710.6, -58.1035931281516),\n",
       " (779.75, -57.840783391310545),\n",
       " (895.7, -58.349432763773756),\n",
       " (984.45, -58.54479903328194),\n",
       " (1074.45, -60.4282248955983),\n",
       " (1186.55, -58.808777063614805),\n",
       " (1262.3000000000002, -58.77759564229942),\n",
       " (1369.75, -58.58154917496167),\n",
       " (1437.3000000000002, -58.158119423609705),\n",
       " (1530.3500000000001, -58.34347407165491),\n",
       " (1623.65, -58.968303219862875),\n",
       " (1677.1000000000001, -58.74737489829212),\n",
       " (1786.7, -58.22798969363959)]"
      ]
     },
     "execution_count": 83,
     "metadata": {},
     "output_type": "execute_result"
    }
   ],
   "source": [
    "[(t, v) for (t,v) in prvXValueToVoltagePeaks[0]]"
   ]
  },
  {
   "cell_type": "code",
   "execution_count": 84,
   "metadata": {},
   "outputs": [
    {
     "data": {
      "text/plain": [
       "20"
      ]
     },
     "execution_count": 84,
     "metadata": {},
     "output_type": "execute_result"
    }
   ],
   "source": [
    "len(prvXValueToVoltagePeaks[0])"
   ]
  },
  {
   "cell_type": "code",
   "execution_count": 85,
   "metadata": {},
   "outputs": [
    {
     "data": {
      "text/plain": [
       "[(40.75, -0.522772641282196),\n",
       " (92.5, -0.583903339950587),\n",
       " (174.0, -0.5866879845239593),\n",
       " (253.0, -0.4942322785359456),\n",
       " (379.75, -0.5259737533300506),\n",
       " (473.25, -0.6834037167007719),\n",
       " (611.5, -0.4165788041889842),\n",
       " (709.75, -0.48283131795209344),\n",
       " (779.5, -0.6779872338313156),\n",
       " (895.0, -0.5360973574785868),\n",
       " (983.5, -0.5142657857025763),\n",
       " (1072.0, -0.3621303529468506),\n",
       " (1184.0, -0.40022319261340844),\n",
       " (1260.5, -0.4291343100739725),\n",
       " (1368.25, -0.44025028658210313),\n",
       " (1436.75, -0.6240809973258711),\n",
       " (1529.75, -0.5778065429881803),\n",
       " (1621.75, -0.44282297706330515),\n",
       " (1676.25, -0.6188111513383249),\n",
       " (1786.25, -0.6244576857934243),\n",
       " (1937.0, -0.38614523056896044)]"
      ]
     },
     "execution_count": 85,
     "metadata": {},
     "output_type": "execute_result"
    }
   ],
   "source": [
    "[(t, v) for (t,v) in spviXValueToStimulusPeaks[0]]"
   ]
  },
  {
   "cell_type": "code",
   "execution_count": 86,
   "metadata": {},
   "outputs": [
    {
     "data": {
      "text/plain": [
       "21"
      ]
     },
     "execution_count": 86,
     "metadata": {},
     "output_type": "execute_result"
    }
   ],
   "source": [
    "len(spviXValueToStimulusPeaks[0])"
   ]
  },
  {
   "cell_type": "code",
   "execution_count": 36,
   "metadata": {},
   "outputs": [
    {
     "data": {
      "text/plain": [
       "[(41.150000000000006, -65.71101766818478),\n",
       " (95.5, -64.94527439208066),\n",
       " (176.60000000000002, -64.38346492140485),\n",
       " (255.10000000000002, -66.02118381620281),\n",
       " (381.0, -65.69102917182825),\n",
       " (474.3, -64.36943222526111),\n",
       " (614.85, -65.3319631206455),\n",
       " (712.25, -65.13248464069979),\n",
       " (780.7, -64.04167633679137),\n",
       " (896.7, -65.00173226265049),\n",
       " (986.1500000000001, -65.4588807477791),\n",
       " (1187.5, -66.09491512515638),\n",
       " (1263.6000000000001, -65.90217368810445),\n",
       " (1371.45, -66.2730733980849),\n",
       " (1438.0500000000002, -64.72291812523396),\n",
       " (1532.75, -65.16565699600436),\n",
       " (1624.75, -66.16889001546151),\n",
       " (1678.3500000000001, -64.73066690963853),\n",
       " (1789.15, -64.77327893032549),\n",
       " (1939.25, -66.36598380039717)]"
      ]
     },
     "execution_count": 36,
     "metadata": {},
     "output_type": "execute_result"
    }
   ],
   "source": [
    "[(t, v) for (t,v) in spviXValueToVoltagePeaks[0]]"
   ]
  },
  {
   "cell_type": "code",
   "execution_count": 35,
   "metadata": {},
   "outputs": [
    {
     "data": {
      "text/plain": [
       "20"
      ]
     },
     "execution_count": 35,
     "metadata": {},
     "output_type": "execute_result"
    }
   ],
   "source": [
    "len(spviXValueToVoltagePeaks[0])"
   ]
  },
  {
   "cell_type": "code",
   "execution_count": 90,
   "metadata": {},
   "outputs": [],
   "source": [
    "#Assumes stims and volts are already sorted; generates a list of ((tstim, vstim), (tvolt, vvolt))\n",
    "def divideToPairs(stims, volts, actionPotentialMaxTimeDifference = 5):\n",
    "    for (tstim,vstim) in stims:\n",
    "        (tvolt, vvolt) = min(volts, key=lambda (tvolt, vvolt): abs(tvolt-tstim))\n",
    "        if(tvolt > tstim  and (tvolt - tstim) < actionPotentialMaxTimeDifference):\n",
    "            yield ((tstim, vstim), (tvolt, vvolt))\n",
    "        "
   ]
  },
  {
   "cell_type": "code",
   "execution_count": 95,
   "metadata": {},
   "outputs": [],
   "source": [
    "prvXValueToPairs = map(lambda xvalue: list(divideToPairs(prvXValueToStimulusPeaks[xvalue], prvXValueToVoltagePeaks[xvalue])), range(0,20))\n",
    "spviXValueToPairs = map(lambda xvalue: list(divideToPairs(spviXValueToStimulusPeaks[xvalue], spviXValueToVoltagePeaks[xvalue])), range(0,20))"
   ]
  },
  {
   "cell_type": "code",
   "execution_count": 97,
   "metadata": {},
   "outputs": [
    {
     "data": {
      "text/plain": [
       "[((40.75, -0.522772641282196), (41.150000000000006, -65.71101766818478)),\n",
       " ((92.5, -0.583903339950587), (95.5, -64.94527439208066)),\n",
       " ((174.0, -0.5866879845239593), (176.60000000000002, -64.38346492140485)),\n",
       " ((253.0, -0.4942322785359456), (255.10000000000002, -66.02118381620281)),\n",
       " ((379.75, -0.5259737533300506), (381.0, -65.69102917182825)),\n",
       " ((473.25, -0.6834037167007719), (474.3, -64.36943222526111)),\n",
       " ((611.5, -0.4165788041889842), (614.85, -65.3319631206455)),\n",
       " ((709.75, -0.48283131795209344), (712.25, -65.13248464069979)),\n",
       " ((779.5, -0.6779872338313156), (780.7, -64.04167633679137)),\n",
       " ((895.0, -0.5360973574785868), (896.7, -65.00173226265049)),\n",
       " ((983.5, -0.5142657857025763), (986.1500000000001, -65.4588807477791)),\n",
       " ((1184.0, -0.40022319261340844), (1187.5, -66.09491512515638)),\n",
       " ((1260.5, -0.4291343100739725), (1263.6000000000001, -65.90217368810445)),\n",
       " ((1368.25, -0.44025028658210313), (1371.45, -66.2730733980849)),\n",
       " ((1436.75, -0.6240809973258711), (1438.0500000000002, -64.72291812523396)),\n",
       " ((1529.75, -0.5778065429881803), (1532.75, -65.16565699600436)),\n",
       " ((1621.75, -0.44282297706330515), (1624.75, -66.16889001546151)),\n",
       " ((1676.25, -0.6188111513383249), (1678.3500000000001, -64.73066690963853)),\n",
       " ((1786.25, -0.6244576857934243), (1789.15, -64.77327893032549)),\n",
       " ((1937.0, -0.38614523056896044), (1939.25, -66.36598380039717))]"
      ]
     },
     "execution_count": 97,
     "metadata": {},
     "output_type": "execute_result"
    }
   ],
   "source": [
    "spviXValueToPairs[0]"
   ]
  },
  {
   "cell_type": "code",
   "execution_count": 100,
   "metadata": {},
   "outputs": [],
   "source": [
    "prvXValueToPairsRatios = map(lambda l: map(lambda i: ((l[i][0][1] / l[i-1][0][1]),(l[i][1][1] / l[i-1][1][1])), range(1, len(l))), prvXValueToPairs)\n",
    "spviXValueToPairsRatios = map(lambda l: map(lambda i: ((l[i][0][1] / l[i-1][0][1]),(l[i][1][1] / l[i-1][1][1])), range(1, len(l))), spviXValueToPairs)\n",
    "prvPairsRatios = flatten(prvXValueToPairsRatios)\n",
    "spviPairsRatios = flatten(spviXValueToPairsRatios)"
   ]
  },
  {
   "cell_type": "code",
   "execution_count": 101,
   "metadata": {},
   "outputs": [
    {
     "data": {
      "text/plain": [
       "[(1.1169355353379944, 0.9883468054022413),\n",
       " (1.0047690163471372, 0.9913494942328811),\n",
       " (0.8424107729715437, 1.0254369487072057),\n",
       " (1.0642237995626918, 0.9949992619748582),\n",
       " (1.2993114435349655, 0.9798816221449319),\n",
       " (0.6095647331274071, 1.0149532295393877),\n",
       " (1.1590395696970057, 0.9969466939241157),\n",
       " (1.404190674099118, 0.9832524690263882),\n",
       " (0.7907189556491984, 1.0149911117380852),\n",
       " (0.9592768524756579, 1.0070328661901105),\n",
       " (0.778241920307092, 1.0097165483141697),\n",
       " (1.0722374864679332, 0.9970838689075106),\n",
       " (1.0259032574352176, 1.0056280345430761),\n",
       " (1.417559548162804, 0.9766095762069223),\n",
       " (0.9258518452957669, 1.0068405270280572),\n",
       " (0.7663862281191987, 1.01539511862082),\n",
       " (1.3974233122276778, 0.9782643610088227),\n",
       " (1.0091248104415822, 1.0006582972603457),\n",
       " (0.618368929318776, 1.0245889183992818)]"
      ]
     },
     "execution_count": 101,
     "metadata": {},
     "output_type": "execute_result"
    }
   ],
   "source": [
    "spviXValueToPairsRatios[0]"
   ]
  },
  {
   "cell_type": "code",
   "execution_count": null,
   "metadata": {},
   "outputs": [],
   "source": []
  },
  {
   "cell_type": "code",
   "execution_count": 113,
   "metadata": {},
   "outputs": [],
   "source": [
    "size = 10\n",
    "\n",
    "plt.close(1)\n",
    "#plt.rc('xtick', labelsize=2.65)\n",
    "#plt.xticks(np.arange(0, (len(spviXValueToStimulusOverallAverageVectors[xvalue])+1)*0.25, 50.0))\n",
    "plt.scatter(map(lambda (x,y): x, prvPairsRatios), map(lambda (x,y): y, prvPairsRatios), s = size)\n",
    "plt.savefig(r\".\\data\\ratios\\PrV Ratios.pdf\")\n",
    "plt.close(1)\n",
    "\n",
    "plt.close(1)\n",
    "#plt.rc('xtick', labelsize=2.65)\n",
    "#plt.xticks(np.arange(0, (len(spviXValueToStimulusOverallAverageVectors[xvalue])+1)*0.25, 50.0))\n",
    "plt.scatter(map(lambda (x,y): x, spviPairsRatios), map(lambda (x,y): y, spviPairsRatios), s = size)\n",
    "plt.savefig(r\".\\data\\ratios\\SpVi Ratios.pdf\")\n",
    "plt.close(1)"
   ]
  }
 ],
 "metadata": {
  "kernelspec": {
   "display_name": "Python 2",
   "language": "python",
   "name": "python2"
  },
  "language_info": {
   "codemirror_mode": {
    "name": "ipython",
    "version": 2
   },
   "file_extension": ".py",
   "mimetype": "text/x-python",
   "name": "python",
   "nbconvert_exporter": "python",
   "pygments_lexer": "ipython2",
   "version": "2.7.14"
  }
 },
 "nbformat": 4,
 "nbformat_minor": 2
}
