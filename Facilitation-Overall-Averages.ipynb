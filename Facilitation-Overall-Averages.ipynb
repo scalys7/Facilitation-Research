{
 "cells": [
  {
   "cell_type": "code",
   "execution_count": 1,
   "metadata": {
    "collapsed": true
   },
   "outputs": [],
   "source": [
    "%matplotlib inline\n",
    "\n",
    "import scipy.io\n",
    "import matplotlib.pyplot as plt\n",
    "import scipy\n",
    "import numpy as np\n",
    "import os\n",
    "import itertools"
   ]
  },
  {
   "cell_type": "code",
   "execution_count": 2,
   "metadata": {
    "collapsed": true
   },
   "outputs": [],
   "source": [
    "%matplotlib inline\n",
    "\n",
    "import mpld3\n",
    "mpld3.enable_notebook()"
   ]
  },
  {
   "cell_type": "code",
   "execution_count": 3,
   "metadata": {
    "collapsed": true
   },
   "outputs": [],
   "source": [
    "import numpy\n",
    "\n",
    "def smooth(x,window_len=11,window='hanning'):\n",
    "    \"\"\"smooth the data using a window with requested size.\n",
    "    \n",
    "    This method is based on the convolution of a scaled window with the signal.\n",
    "    The signal is prepared by introducing reflected copies of the signal \n",
    "    (with the window size) in both ends so that transient parts are minimized\n",
    "    in the begining and end part of the output signal.\n",
    "    \n",
    "    input:\n",
    "        x: the input signal \n",
    "        window_len: the dimension of the smoothing window; should be an odd integer\n",
    "        window: the type of window from 'flat', 'hanning', 'hamming', 'bartlett', 'blackman'\n",
    "            flat window will produce a moving average smoothing.\n",
    "\n",
    "    output:\n",
    "        the smoothed signal\n",
    "        \n",
    "    example:\n",
    "\n",
    "    t=linspace(-2,2,0.1)\n",
    "    x=sin(t)+randn(len(t))*0.1\n",
    "    y=smooth(x)\n",
    "    \n",
    "    see also: \n",
    "    \n",
    "    numpy.hanning, numpy.hamming, numpy.bartlett, numpy.blackman, numpy.convolve\n",
    "    scipy.signal.lfilter\n",
    " \n",
    "    TODO: the window parameter could be the window itself if an array instead of a string\n",
    "    NOTE: length(output) != length(input), to correct this: return y[(window_len/2-1):-(window_len/2)] instead of just y.\n",
    "    \"\"\"\n",
    "\n",
    "    if x.ndim != 1:\n",
    "        raise ValueError, \"smooth only accepts 1 dimension arrays.\"\n",
    "\n",
    "    if x.size < window_len:\n",
    "        raise ValueError, \"Input vector needs to be bigger than window size.\"\n",
    "\n",
    "\n",
    "    if window_len<3:\n",
    "        return x\n",
    "\n",
    "\n",
    "    if not window in ['flat', 'hanning', 'hamming', 'bartlett', 'blackman']:\n",
    "        raise ValueError, \"Window is on of 'flat', 'hanning', 'hamming', 'bartlett', 'blackman'\"\n",
    "\n",
    "\n",
    "    s=numpy.r_[x[window_len-1:0:-1],x,x[-2:-window_len-1:-1]]\n",
    "    #print(len(s))\n",
    "    if window == 'flat': #moving average\n",
    "        w=numpy.ones(window_len,'d')\n",
    "    else:\n",
    "        w=eval('numpy.'+window+'(window_len)')\n",
    "\n",
    "    y=numpy.convolve(w/w.sum(),s,mode='valid')\n",
    "    return y[(window_len/2-1):-(window_len/2)]\n"
   ]
  },
  {
   "cell_type": "code",
   "execution_count": 4,
   "metadata": {
    "collapsed": true
   },
   "outputs": [],
   "source": [
    "from scipy.signal import argrelmax, argrelmin, find_peaks_cwt\n",
    "\n",
    "def findLocalExtremeIndices(sig, widthPercentage = 1.0):\n",
    "    peaks = find_peaks_cwt(sig, np.arange(1,len(sig)*(widthPercentage/100)))\n",
    "    maximums = argrelmax(sig)[0]\n",
    "    maximums = map(lambda peak: min(maximums, key=lambda x:abs(x-peak)), peaks)\n",
    "    minimums = argrelmin(sig)[0]\n",
    "    minimums = map(lambda peak: min(minimums, key=lambda x:abs(x-peak)), peaks)\n",
    "    \n",
    "    minimums = list(set(minimums))\n",
    "    maximums = list(set(maximums))\n",
    "    minimums.sort()\n",
    "    maximums.sort()\n",
    "    \n",
    "    return minimums, maximums"
   ]
  },
  {
   "cell_type": "code",
   "execution_count": 5,
   "metadata": {
    "collapsed": true
   },
   "outputs": [],
   "source": [
    "def get_cell_type(cell):\n",
    "    num = cell['CellNum'][0][0][0][0]\n",
    "    if num in [19,20,21,22,23,24,36,37,38]:\n",
    "        return 'SpVi'\n",
    "    else:\n",
    "        return 'PrV'"
   ]
  },
  {
   "cell_type": "code",
   "execution_count": 6,
   "metadata": {
    "collapsed": true
   },
   "outputs": [],
   "source": [
    "def compute_xvalue_averages_for_one_cell(cell):\n",
    "    ''' vMat\n",
    "    A matrix that represesnts the potential responses of the cell.\n",
    "    80 trials, each 40,000 samples long\n",
    "    vMat[i][j] := potential in sample i at trial j (mV)\n",
    "\n",
    "    40,000 samples \\ 20KHz sampling rate -> trials are 2 seconds long.\n",
    "\n",
    "    thus each sample is 2 \\ 40000 => 1  \\ 20000 => 0.05 ms long\n",
    "    '''\n",
    "    vMat = cell['vMat'][0][0].transpose()\n",
    "    \n",
    "    ''' stimMat\n",
    "    A matrix that the galvo feedback (the stimilus to the electical device \n",
    "    that mechanically stimulated the whiskers.)\n",
    "    80 trials, each 8,000 samples long\n",
    "    stimMat[i][j] := ? amount of stimulus\n",
    "\n",
    "    8,000 samples \\ 4KHz sampling rate -> trials are 2 seconds long.\n",
    "    thus each sample is 2 \\ 8000 = 1 \\ 4000 = 0.25ms long\n",
    "    \n",
    "     Note that vMat is 5x in the X axis.\n",
    "\n",
    "    '''\n",
    "    stimMat = cell['stimMat'][0][0].transpose()\n",
    "    xValuesVec = cell['xValue'][0][0].tolist()\n",
    "    \n",
    "    '''\n",
    "    xValue is a unique identifier for a stimilus pattern.\n",
    "    There are 20 (as you can see below) xValues.\n",
    "    Each trial was done in one of 20 stimulus patterns, and we can check which by using the xValueVec.\n",
    "    '''\n",
    "    xValues = np.unique(xValuesVec)\n",
    "    \n",
    "    xValueToTrials = dict(map(lambda xValue: (xValue, [i for i in range(0,len(xValuesVec)) if xValuesVec[i] == xValue]), xValues))\n",
    "    xValueToAverageVoltagesVector = dict(map(lambda xValue: (xValue, np.mean(vMat[xValueToTrials[xValue]], axis = 0)), xValueToTrials))\n",
    "    xValueToAverageStimulusVector = dict(map(lambda xValue: (xValue, np.mean(stimMat[xValueToTrials[xValue]], axis = 0)), xValueToTrials))\n",
    "\n",
    "    return (xValueToAverageStimulusVector,xValueToAverageVoltagesVector)"
   ]
  },
  {
   "cell_type": "code",
   "execution_count": null,
   "metadata": {
    "collapsed": true
   },
   "outputs": [],
   "source": []
  },
  {
   "cell_type": "code",
   "execution_count": 7,
   "metadata": {},
   "outputs": [
    {
     "data": {
      "text/plain": [
       "<function __main__.get_cell_type>"
      ]
     },
     "execution_count": 7,
     "metadata": {},
     "output_type": "execute_result"
    }
   ],
   "source": [
    "get_cell_type"
   ]
  },
  {
   "cell_type": "code",
   "execution_count": 8,
   "metadata": {
    "collapsed": true
   },
   "outputs": [],
   "source": [
    "'''\n",
    "    Overall average computation\n",
    "'''\n",
    "filenames = [os.path.join('data', fn) for fn in os.walk('data').next()[2] if fn.endswith('.mat')]\n",
    "mats = [scipy.io.loadmat(fn) for fn in filenames]\n",
    "cells = [mat['Cell'] for mat in mats]\n",
    "xValueAverageVectors = [compute_xvalue_averages_for_one_cell(cell) for cell in cells]"
   ]
  },
  {
   "cell_type": "code",
   "execution_count": 9,
   "metadata": {
    "collapsed": true
   },
   "outputs": [],
   "source": [
    "# '''\n",
    "#     EXAMPLES\n",
    "#     the following 4 lines are an example for one xvalue of one cell\n",
    "# '''\n",
    "# exampleXValue = 1\n",
    "# (xValueToAverageStimulusVector, xValueToAverageVoltagesVector) =  xValueAverageVectors[0]\n",
    "# stimsample = xValueToAverageStimulusVector[exampleXValue]\n",
    "# plt.plot(stimsample)\n",
    "# plt.show()"
   ]
  },
  {
   "cell_type": "code",
   "execution_count": 10,
   "metadata": {
    "collapsed": true
   },
   "outputs": [],
   "source": [
    "# stimsamplesmooth = smooth(stimsample, window_len = 100,window='hanning')\n",
    "# plt.plot(stimsamplesmooth)\n",
    "# plt.show()"
   ]
  },
  {
   "cell_type": "code",
   "execution_count": 11,
   "metadata": {
    "collapsed": true
   },
   "outputs": [],
   "source": [
    "# vsample = xValueToAverageVoltagesVector[exampleXValue]\n",
    "# plt.plot(vsample)\n",
    "# plt.show()"
   ]
  },
  {
   "cell_type": "code",
   "execution_count": 12,
   "metadata": {
    "collapsed": true
   },
   "outputs": [],
   "source": [
    "# vsamplesmooth = smooth(vsample, window_len = 500,window='hanning')\n",
    "# plt.plot(vsamplesmooth)\n",
    "# plt.show()"
   ]
  },
  {
   "cell_type": "code",
   "execution_count": null,
   "metadata": {
    "collapsed": true
   },
   "outputs": [],
   "source": []
  },
  {
   "cell_type": "code",
   "execution_count": 13,
   "metadata": {
    "collapsed": true
   },
   "outputs": [],
   "source": [
    "spviAverages = [avgs for cell, avgs in itertools.izip(cells, xValueAverageVectors) if get_cell_type(cell) == 'SpVi']\n",
    "prvAverages = [avgs for cell, avgs in itertools.izip(cells, xValueAverageVectors) if get_cell_type(cell) == 'PrV']"
   ]
  },
  {
   "cell_type": "code",
   "execution_count": 29,
   "metadata": {
    "collapsed": true
   },
   "outputs": [],
   "source": [
    "spviXValueToStimulusAverages = map(lambda xvalue: [stimAvgVec[xvalue] for stimAvgVec, voltAvgVec in spviAverages], range(1,21))\n",
    "spviXValueToVoltageAverages = map(lambda xvalue: [voltAvgVec[xvalue] for stimAvgVec, voltAvgVec in spviAverages], range(1,21))\n",
    "\n",
    "prvXValueToStimulusAverages = map(lambda xvalue: [stimAvgVec[xvalue] for stimAvgVec, voltAvgVec in prvAverages], range(1,21))\n",
    "prvXValueToVoltageAverages = map(lambda xvalue: [voltAvgVec[xvalue] for stimAvgVec, voltAvgVec in prvAverages], range(1,21))"
   ]
  },
  {
   "cell_type": "code",
   "execution_count": 30,
   "metadata": {
    "collapsed": true
   },
   "outputs": [],
   "source": [
    "spviXValueToStimulusOverallAverageVectors = [smooth(np.mean(v, axis = 0), window_len = 100,window='hanning') for v in spviXValueToStimulusAverages]\n",
    "spviXValueToVoltageOverallAverageVectors = [smooth(np.mean(v, axis = 0), window_len = 100,window='hanning') for v in spviXValueToVoltageAverages]\n",
    "\n",
    "prvXValueToStimulusOverallAverageVectors = [smooth(np.mean(v, axis = 0), window_len = 100,window='hanning') for v in prvXValueToStimulusAverages]\n",
    "prvXValueToVoltageOverallAverageVectors = [smooth(np.mean(v, axis = 0), window_len = 100,window='hanning') for v in prvXValueToVoltageAverages]"
   ]
  },
  {
   "cell_type": "code",
   "execution_count": 31,
   "metadata": {
    "collapsed": true
   },
   "outputs": [],
   "source": [
    "for xvalue in range(0,20):\n",
    "    plt.close(1)\n",
    "    plt.rc('xtick', labelsize=2.65)\n",
    "    plt.plot([x * 0.25 for x in range(0, len(spviXValueToStimulusOverallAverageVectors[xvalue]))], spviXValueToStimulusOverallAverageVectors[xvalue])\n",
    "    plt.xticks(np.arange(0, (len(spviXValueToStimulusOverallAverageVectors[xvalue])+1)*0.25, 50.0))\n",
    "    plt.savefig(r\"C:\\Users\\scaly\\Documents\\data\\graphs\\spvi_stim_%d.pdf\" % (xvalue+1))\n",
    "    plt.close(1)\n",
    "   \n",
    "    plt.rc('xtick', labelsize=2.65)\n",
    "    plt.plot([x * 0.05 for x in range(0, len(spviXValueToVoltageOverallAverageVectors[xvalue]))], spviXValueToVoltageOverallAverageVectors[xvalue])\n",
    "    plt.xticks(np.arange(0, (len(spviXValueToVoltageOverallAverageVectors[xvalue])+1)*0.05, 50.0))\n",
    "    plt.savefig(r\"C:\\Users\\scaly\\Documents\\data\\graphs\\spvi_volt_%d.pdf\" % (xvalue+1))\n",
    "    plt.close(1)\n",
    "   \n",
    "    plt.rc('xtick', labelsize=2.65)\n",
    "    plt.plot([x * 0.25 for x in range(0, len(prvXValueToStimulusOverallAverageVectors[xvalue]))], prvXValueToStimulusOverallAverageVectors[xvalue])\n",
    "    plt.xticks(np.arange(0, (len(prvXValueToStimulusOverallAverageVectors[xvalue])+1)*0.25, 50.0))\n",
    "    plt.savefig(r\"C:\\Users\\scaly\\Documents\\data\\graphs\\prv_stim_%d.pdf\" % (xvalue+1))\n",
    "   \n",
    "    plt.close(1)\n",
    "    plt.rc('xtick', labelsize=2.65)\n",
    "    plt.plot([x * 0.05 for x in range(0, len(prvXValueToVoltageOverallAverageVectors[xvalue]))], prvXValueToVoltageOverallAverageVectors[xvalue])\n",
    "    plt.xticks(np.arange(0, (len(prvXValueToVoltageOverallAverageVectors[xvalue])+1)*0.05, 50.0))\n",
    "    plt.savefig(r\"C:\\Users\\scaly\\Documents\\data\\graphs\\prv_volt_%d.pdf\" % (xvalue+1))\n",
    "    plt.close(1)"
   ]
  },
  {
   "cell_type": "code",
   "execution_count": 23,
   "metadata": {},
   "outputs": [],
   "source": [
    "# xvalue = 1\n",
    "# plt.close(1)\n",
    "# plt.rc('xtick', labelsize=2.7) \n",
    "# plt.plot([x * 0.25 for x in range(0, len(spviXValueToStimulusOverallAverageVectors[xvalue]))], spviXValueToStimulusOverallAverageVectors[xvalue])\n",
    "# plt.xticks(np.arange(0, len(spviXValueToStimulusOverallAverageVectors[xvalue]+1)*0.25, 50.0))\n",
    "# plt.savefig(r\"C:\\Users\\scaly\\Documents\\data\\graphs\\spvi_stim_%d.pdf\" % (xvalue + 1), format = \"pdf\")"
   ]
  },
  {
   "cell_type": "code",
   "execution_count": 24,
   "metadata": {},
   "outputs": [
    {
     "name": "stderr",
     "output_type": "stream",
     "text": [
      "IOPub data rate exceeded.\n",
      "The notebook server will temporarily stop sending output\n",
      "to the client in order to avoid crashing it.\n",
      "To change this limit, set the config variable\n",
      "`--NotebookApp.iopub_data_rate_limit`.\n"
     ]
    }
   ],
   "source": [
    "xvalue = 1\n",
    "plt.close(1)\n",
    "plt.rc('xtick', labelsize=2.8) \n",
    "plt.plot([x * 0.05 for x in range(0, len(spviXValueToVoltageOverallAverageVectors[xvalue]))], spviXValueToVoltageOverallAverageVectors[xvalue])\n",
    "plt.xticks(np.arange(0, len(spviXValueToVoltageOverallAverageVectors[xvalue]+1)*0.05, 50.0))\n",
    "plt.savefig(r\"C:\\Users\\scaly\\Documents\\data\\graphs\\spvi_stim_%d.pdf\" % (xvalue + 1), format = \"pdf\")"
   ]
  },
  {
   "cell_type": "code",
   "execution_count": 19,
   "metadata": {},
   "outputs": [
    {
     "ename": "TypeError",
     "evalue": "object of type 'numpy.float64' has no len()",
     "output_type": "error",
     "traceback": [
      "\u001b[1;31m---------------------------------------------------------------------------\u001b[0m",
      "\u001b[1;31mTypeError\u001b[0m                                 Traceback (most recent call last)",
      "\u001b[1;32m<ipython-input-19-6d4250703b74>\u001b[0m in \u001b[0;36m<module>\u001b[1;34m()\u001b[0m\n\u001b[1;32m----> 1\u001b[1;33m \u001b[0mlen\u001b[0m\u001b[1;33m(\u001b[0m\u001b[0mspviXValueToStimulusOverallAverageVectors\u001b[0m\u001b[1;33m[\u001b[0m\u001b[1;36m1\u001b[0m\u001b[1;33m]\u001b[0m\u001b[1;33m[\u001b[0m\u001b[1;36m0\u001b[0m\u001b[1;33m]\u001b[0m\u001b[1;33m)\u001b[0m\u001b[1;33m\u001b[0m\u001b[0m\n\u001b[0m",
      "\u001b[1;31mTypeError\u001b[0m: object of type 'numpy.float64' has no len()"
     ]
    }
   ],
   "source": [
    "len(spviXValueToStimulusOverallAverageVectors[1][0])"
   ]
  },
  {
   "cell_type": "code",
   "execution_count": null,
   "metadata": {
    "collapsed": true
   },
   "outputs": [],
   "source": []
  },
  {
   "cell_type": "code",
   "execution_count": null,
   "metadata": {
    "collapsed": true
   },
   "outputs": [],
   "source": []
  },
  {
   "cell_type": "code",
   "execution_count": null,
   "metadata": {
    "collapsed": true
   },
   "outputs": [],
   "source": []
  },
  {
   "cell_type": "code",
   "execution_count": null,
   "metadata": {
    "collapsed": true
   },
   "outputs": [],
   "source": []
  },
  {
   "cell_type": "code",
   "execution_count": null,
   "metadata": {
    "collapsed": true
   },
   "outputs": [],
   "source": []
  },
  {
   "cell_type": "code",
   "execution_count": null,
   "metadata": {
    "collapsed": true
   },
   "outputs": [],
   "source": []
  },
  {
   "cell_type": "code",
   "execution_count": null,
   "metadata": {
    "collapsed": true
   },
   "outputs": [],
   "source": []
  },
  {
   "cell_type": "code",
   "execution_count": null,
   "metadata": {
    "collapsed": true
   },
   "outputs": [],
   "source": []
  },
  {
   "cell_type": "code",
   "execution_count": null,
   "metadata": {
    "collapsed": true
   },
   "outputs": [],
   "source": []
  },
  {
   "cell_type": "code",
   "execution_count": null,
   "metadata": {
    "collapsed": true
   },
   "outputs": [],
   "source": []
  }
 ],
 "metadata": {
  "kernelspec": {
   "display_name": "Python 2",
   "language": "python",
   "name": "python2"
  }
 },
 "nbformat": 4,
 "nbformat_minor": 2
}
