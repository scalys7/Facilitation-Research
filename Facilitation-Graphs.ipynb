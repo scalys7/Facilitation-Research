{
 "cells": [
  {
   "cell_type": "code",
   "execution_count": null,
   "metadata": {},
   "outputs": [],
   "source": [
    "%matplotlib inline\n",
    "\n",
    "import scipy.io\n",
    "import matplotlib.pyplot as plt\n",
    "import scipy\n",
    "import numpy as np\n",
    "import os\n",
    "import itertools"
   ]
  },
  {
   "cell_type": "code",
   "execution_count": null,
   "metadata": {},
   "outputs": [],
   "source": [
    "def flatMap(f, items):\n",
    "        return list(itertools.chain.from_iterable(itertools.imap(f, items)))"
   ]
  },
  {
   "cell_type": "code",
   "execution_count": null,
   "metadata": {},
   "outputs": [],
   "source": [
    "import numpy\n",
    "\n",
    "def smooth(x,window_len=11,window='hanning'):\n",
    "    \"\"\"smooth the data using a window with requested size.\n",
    "    \n",
    "    This method is based on the convolution of a scaled window with the signal.\n",
    "    The signal is prepared by introducing reflected copies of the signal \n",
    "    (with the window size) in both ends so that transient parts are minimized\n",
    "    in the begining and end part of the output signal.\n",
    "    \n",
    "    input:\n",
    "        x: the input signal \n",
    "        window_len: the dimension of the smoothing window; should be an odd integer\n",
    "        window: the type of window from 'flat', 'hanning', 'hamming', 'bartlett', 'blackman'\n",
    "            flat window will produce a moving average smoothing.\n",
    "\n",
    "    output:\n",
    "        the smoothed signal\n",
    "        \n",
    "    example:\n",
    "\n",
    "    t=linspace(-2,2,0.1)\n",
    "    x=sin(t)+randn(len(t))*0.1\n",
    "    y=smooth(x)\n",
    "    \n",
    "    see also: \n",
    "    \n",
    "    numpy.hanning, numpy.hamming, numpy.bartlett, numpy.blackman, numpy.convolve\n",
    "    scipy.signal.lfilter\n",
    " \n",
    "    TODO: the window parameter could be the window itself if an array instead of a string\n",
    "    NOTE: length(output) != length(input), to correct this: return y[(window_len/2-1):-(window_len/2)] instead of just y.\n",
    "    \"\"\"\n",
    "\n",
    "    if x.ndim != 1:\n",
    "        raise ValueError, \"smooth only accepts 1 dimension arrays.\"\n",
    "\n",
    "    if x.size < window_len:\n",
    "        raise ValueError, \"Input vector needs to be bigger than window size.\"\n",
    "\n",
    "\n",
    "    if window_len<3:\n",
    "        return x\n",
    "\n",
    "\n",
    "    if not window in ['flat', 'hanning', 'hamming', 'bartlett', 'blackman']:\n",
    "        raise ValueError, \"Window is on of 'flat', 'hanning', 'hamming', 'bartlett', 'blackman'\"\n",
    "\n",
    "\n",
    "    s=numpy.r_[x[window_len-1:0:-1],x,x[-2:-window_len-1:-1]]\n",
    "    #print(len(s))\n",
    "    if window == 'flat': #moving average\n",
    "        w=numpy.ones(window_len,'d')\n",
    "    else:\n",
    "        w=eval('numpy.'+window+'(window_len)')\n",
    "\n",
    "    y=numpy.convolve(w/w.sum(),s,mode='valid')\n",
    "    return y[(window_len/2-1):-(window_len/2)]\n"
   ]
  },
  {
   "cell_type": "code",
   "execution_count": null,
   "metadata": {},
   "outputs": [],
   "source": [
    "def get_cell_type(cell):\n",
    "    num = cell['CellNum'][0][0][0][0]\n",
    "    if num in [19,20,21,22,23,24,36,37,38]:\n",
    "        return 'SpVi'\n",
    "    else:\n",
    "        return 'PrV'"
   ]
  },
  {
   "cell_type": "code",
   "execution_count": null,
   "metadata": {},
   "outputs": [],
   "source": [
    "NOPRINT_LEVEL = 0\n",
    "NORMAL_PRINT_LEVEL = 1\n",
    "DEBUG_LEVEL = 2\n",
    "PRINT_LEVEL = NORMAL_PRINT_LEVEL"
   ]
  },
  {
   "cell_type": "code",
   "execution_count": null,
   "metadata": {},
   "outputs": [],
   "source": [
    "for filename in [fn for fn in os.walk('data').next()[2] if fn.endswith('.mat')]:\n",
    "    filepath = os.path.join('data', filename)\n",
    "    cellNumber = int(filename[5:7])\n",
    "    \n",
    "    if(PRINT_LEVEL == NORMAL_PRINT_LEVEL): print 'Outputting raw graphs for cell #%d in file: %s' % (cellNumber, filename)\n",
    "    \n",
    "    mat = scipy.io.loadmat(filepath)\n",
    "    cell = mat['Cell']\n",
    "    vMat = cell['vMat'][0][0].transpose()\n",
    "    stimMat = cell['stimMat'][0][0].transpose()\n",
    "    xValuesVec = [x[0] for x in cell['xValue'][0][0].tolist()]\n",
    "    \n",
    "    for i in range(len(vMat)):\n",
    "        xValue = xValuesVec[i]\n",
    "        \n",
    "        \n",
    "        outdir = r\".\\data\\graphs\\all trials\\raw\\%s\\Cell0%d\" % (get_cell_type(cell), cellNumber)\n",
    "        stim_outpath = os.path.join(outdir, (r\"Cell0%d_stim_%d_%d.pdf\" % (cellNumber, i, (xValue+1))))\n",
    "        volt_outpath = os.path.join(outdir, (r\"Cell0%d_volt_%d_%d.pdf\" % (cellNumber, i, (xValue+1))))\n",
    "        \n",
    "        try:\n",
    "            os.makedirs(outdir)\n",
    "        except:\n",
    "            pass\n",
    "        \n",
    "        if(PRINT_LEVEL == DEBUG_LEVEL): print '\\tOutputting trial %d with xValue %d to %s and %s' % (i, xValue, stim_outpath, volt_outpath)\n",
    "            \n",
    "        plt.close(1)\n",
    "        plt.rc('xtick', labelsize= 2.65)\n",
    "        plt.plot([x * 0.25 for x in range(0, len(stimMat[i]))], stimMat[i])\n",
    "        plt.xticks(np.arange(0, (len(stimMat[i])+1)*0.25, 50.0))\n",
    "        plt.savefig(stim_outpath)\n",
    "        plt.close(1)\n",
    "    \n",
    "        plt.close(1)\n",
    "        plt.rc('xtick', labelsize=2.65)\n",
    "        plt.plot([x * 0.05 for x in range(0, len(vMat[i]))], vMat[i])\n",
    "        plt.xticks(np.arange(0, (len(vMat[i])+1)*0.05, 50.0))        \n",
    "        plt.savefig(volt_outpath)\n",
    "        plt.close(1)\n",
    "        \n",
    "print \"Done outputting raw graphs\""
   ]
  },
  {
   "cell_type": "code",
   "execution_count": null,
   "metadata": {},
   "outputs": [],
   "source": [
    "for filename in [fn for fn in os.walk('data').next()[2] if fn.endswith('.mat')]:\n",
    "    filepath = os.path.join('data', filename)\n",
    "    cellNumber = int(filename[5:7])\n",
    "    \n",
    "    if(PRINT_LEVEL == NORMAL_PRINT_LEVEL): print 'Outputting smooth graphs for cell #%d in file: %s' % (cellNumber, filename)\n",
    "    \n",
    "    mat = scipy.io.loadmat(filepath)\n",
    "    cell = mat['Cell']\n",
    "    vMat = cell['vMat'][0][0].transpose()\n",
    "    stimMat = cell['stimMat'][0][0].transpose()\n",
    "    xValuesVec = [x[0] for x in cell['xValue'][0][0].tolist()]\n",
    "    \n",
    "    for i in range(len(vMat)):\n",
    "        xValue = xValuesVec[i]\n",
    "        \n",
    "        outdir = r\".\\data\\graphs\\all trials\\smooth\\%s\\Cell0%d\" % (get_cell_type(cell), cellNumber)\n",
    "        stim_outpath = os.path.join(outdir, (r\"Cell0%d_stim_%d_%d.pdf\" % (cellNumber, i, (xValue+1))))\n",
    "        volt_outpath = os.path.join(outdir, (r\"Cell0%d_volt_%d_%d.pdf\" % (cellNumber, i, (xValue+1))))\n",
    "        \n",
    "        smooth_stim_vec = smooth(stimMat[i], window_len = 100,window='hanning')\n",
    "        smooth_volt_vec = smooth(vMat[i], window_len = 100,window='hanning')\n",
    "        \n",
    "        try:\n",
    "            os.makedirs(outdir)\n",
    "        except:\n",
    "            pass\n",
    "            \n",
    "        if(PRINT_LEVEL == DEBUG_LEVEL): print '\\tOutputting trial %d with xValue %d to %s and %s' % (i, xValue, stim_outpath, volt_outpath)            \n",
    "        \n",
    "        plt.close(1)\n",
    "        plt.rc('xtick', labelsize= 2.65)\n",
    "        \n",
    "        plt.plot([x * 0.25 for x in range(0, len(smooth_stim_vec))], smooth_stim_vec)\n",
    "        plt.xticks(np.arange(0, (len(smooth_stim_vec)+1)*0.25, 50.0))\n",
    "        plt.savefig(stim_outpath)\n",
    "        plt.close(1)\n",
    "    \n",
    "        plt.close(1)\n",
    "        plt.rc('xtick', labelsize=2.65)\n",
    "        plt.plot([x * 0.05 for x in range(0, len(smooth_volt_vec))], smooth_volt_vec)\n",
    "        plt.xticks(np.arange(0, (len(smooth_volt_vec)+1)*0.05, 50.0))        \n",
    "        plt.savefig(volt_outpath)\n",
    "        plt.close(1)\n",
    "        \n",
    "print \"Done outputting smooth graphs\""
   ]
  },
  {
   "cell_type": "code",
   "execution_count": null,
   "metadata": {},
   "outputs": [],
   "source": []
  },
  {
   "cell_type": "code",
   "execution_count": null,
   "metadata": {},
   "outputs": [],
   "source": []
  },
  {
   "cell_type": "code",
   "execution_count": null,
   "metadata": {},
   "outputs": [],
   "source": []
  },
  {
   "cell_type": "code",
   "execution_count": null,
   "metadata": {},
   "outputs": [],
   "source": []
  },
  {
   "cell_type": "code",
   "execution_count": null,
   "metadata": {},
   "outputs": [],
   "source": []
  },
  {
   "cell_type": "code",
   "execution_count": null,
   "metadata": {},
   "outputs": [],
   "source": []
  },
  {
   "cell_type": "code",
   "execution_count": null,
   "metadata": {},
   "outputs": [],
   "source": []
  },
  {
   "cell_type": "code",
   "execution_count": null,
   "metadata": {},
   "outputs": [],
   "source": []
  },
  {
   "cell_type": "code",
   "execution_count": null,
   "metadata": {},
   "outputs": [],
   "source": []
  },
  {
   "cell_type": "code",
   "execution_count": null,
   "metadata": {},
   "outputs": [],
   "source": []
  },
  {
   "cell_type": "code",
   "execution_count": null,
   "metadata": {},
   "outputs": [],
   "source": []
  },
  {
   "cell_type": "code",
   "execution_count": null,
   "metadata": {},
   "outputs": [],
   "source": []
  },
  {
   "cell_type": "code",
   "execution_count": null,
   "metadata": {},
   "outputs": [],
   "source": []
  },
  {
   "cell_type": "code",
   "execution_count": null,
   "metadata": {},
   "outputs": [],
   "source": []
  },
  {
   "cell_type": "code",
   "execution_count": null,
   "metadata": {},
   "outputs": [],
   "source": []
  },
  {
   "cell_type": "code",
   "execution_count": null,
   "metadata": {},
   "outputs": [],
   "source": []
  },
  {
   "cell_type": "code",
   "execution_count": null,
   "metadata": {},
   "outputs": [],
   "source": []
  },
  {
   "cell_type": "code",
   "execution_count": null,
   "metadata": {},
   "outputs": [],
   "source": []
  },
  {
   "cell_type": "code",
   "execution_count": null,
   "metadata": {},
   "outputs": [],
   "source": []
  },
  {
   "cell_type": "code",
   "execution_count": null,
   "metadata": {},
   "outputs": [],
   "source": []
  },
  {
   "cell_type": "code",
   "execution_count": null,
   "metadata": {},
   "outputs": [],
   "source": []
  },
  {
   "cell_type": "code",
   "execution_count": null,
   "metadata": {},
   "outputs": [],
   "source": []
  },
  {
   "cell_type": "code",
   "execution_count": null,
   "metadata": {},
   "outputs": [],
   "source": []
  },
  {
   "cell_type": "code",
   "execution_count": null,
   "metadata": {},
   "outputs": [],
   "source": []
  },
  {
   "cell_type": "code",
   "execution_count": null,
   "metadata": {},
   "outputs": [],
   "source": []
  },
  {
   "cell_type": "code",
   "execution_count": null,
   "metadata": {},
   "outputs": [],
   "source": []
  }
 ],
 "metadata": {
  "kernelspec": {
   "display_name": "Python 2",
   "language": "python",
   "name": "python2"
  },
  "language_info": {
   "codemirror_mode": {
    "name": "ipython",
    "version": 2
   },
   "file_extension": ".py",
   "mimetype": "text/x-python",
   "name": "python",
   "nbconvert_exporter": "python",
   "pygments_lexer": "ipython2",
   "version": "2.7.14"
  }
 },
 "nbformat": 4,
 "nbformat_minor": 2
}
